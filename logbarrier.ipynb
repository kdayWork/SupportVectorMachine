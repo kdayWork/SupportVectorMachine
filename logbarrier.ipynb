{
 "cells": [
  {
   "cell_type": "code",
   "execution_count": 10,
   "id": "6abfb809-351e-419c-a26b-6235ff722c94",
   "metadata": {},
   "outputs": [
    {
     "name": "stdout",
     "output_type": "stream",
     "text": [
      "solution occurs near x = [0.0013076864951298472, 0.5000000000000041]\n"
     ]
    }
   ],
   "source": [
    "# primal barrier method from nocedal 19.6\n",
    "using LinearAlgebra\n",
    "\n",
    "\n",
    "function barrier(P, ∇P, x, c; μ=1, ϵ=1e-3) \n",
    "    τ = 1\n",
    "    while true\n",
    "        \n",
    "        x, μ = steepest_descent_barrier(P, ∇P, x, μ, c, ϵ=τ)\n",
    "\n",
    "        if norm(∇P(x, μ)) < ϵ\n",
    "            break\n",
    "        end\n",
    "\n",
    "        τ = τ * 0.9\n",
    "        μ = μ * 0.9      \n",
    "    end\n",
    "    return x, μ\n",
    "end\n",
    "\n",
    "\n",
    "function backtracking_line_search_barrier(f, ∇f, x, μ, c, p)\n",
    "    α = .5     # initial step length\n",
    "    rho = 0.75\n",
    "    ctol = 1e-4\n",
    "\n",
    "    function stay_feasible(α)\n",
    "        while c(x + α*p) < 0\n",
    "            α *= rho\n",
    "        end\n",
    "        return α\n",
    "    end\n",
    "    α = stay_feasible(α)\n",
    "\n",
    "    while f(x + α*p, μ) > f(x, μ) + ctol*α*transpose(∇f(x, μ))*p \n",
    "        α *= rho\n",
    "        α = stay_feasible(α)\n",
    "    end\n",
    "    return α\n",
    "end\n",
    "\n",
    "\n",
    "# steepest descent modified to be used with a barrier method\n",
    "function steepest_descent_barrier(P, ∇P, x, μ, c; ϵ=1e-3, k=1, c1=1e-4)\n",
    "\n",
    "    i = 1\n",
    "    while norm(∇P(x, μ)) > ϵ\n",
    "\n",
    "        p = -∇P(x, μ)\n",
    "    \n",
    "        α = backtracking_line_search_barrier(P, ∇P, x, μ, c, p)\n",
    "\n",
    "        x = x + α*p  \n",
    "        i += 1\n",
    "    end\n",
    "    return x, μ\n",
    "end\n",
    "\n",
    "\n",
    "# min (x1 + 0.5)^2 + (x2 - 0.5)^2\n",
    "# s.t. x1 >= 0\n",
    "f(x) = (x[1]+0.5)^2 + (x[2]-0.5)^2\n",
    "c(x) = x[1]\n",
    "B(x) = -log(c(x))\n",
    "P(x,μ) = f(x) + μ*B(x)\n",
    "∇P(x,μ) = [ 2*(x[1]+0.5)-μ/x[1], 2*(x[2]-0.5) ]  \n",
    "\n",
    "x0 = [1,1]\n",
    "(x,μ) = barrier(P, ∇P, x0, c; μ=1.0)\n",
    "println(\"solution occurs near x = \", x)"
   ]
  },
  {
   "cell_type": "markdown",
   "id": "9b1eace1-3bef-48a2-8382-94cecd5b6421",
   "metadata": {},
   "source": [
    "I created two functions here, steepest_descent_barrier and barrier. Its the basic steepest_descent algorithm. Barrier follows algorithm 19.5 as highlighted in Nocedal. It continuously sets epsilon to equal tau, which is always decreasing with each iteration (tau = tau * .9), and breaks once the norm of the gradient is less than epsilon. "
   ]
  }
 ],
 "metadata": {
  "kernelspec": {
   "display_name": "Julia 1.9.3",
   "language": "julia",
   "name": "julia-1.9"
  },
  "language_info": {
   "file_extension": ".jl",
   "mimetype": "application/julia",
   "name": "julia",
   "version": "1.9.3"
  }
 },
 "nbformat": 4,
 "nbformat_minor": 5
}
